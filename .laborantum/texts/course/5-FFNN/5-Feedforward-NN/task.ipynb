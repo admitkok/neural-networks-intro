{
    "cells": [
        {
            "cell_type": "code",
            "execution_count": 1,
            "metadata": {
                "colab": {},
                "colab_type": "code",
                "id": "DWr6cvb9pS3J"
            },
            "outputs": [],
            "source": [
                "import torch\n",
                "import random\n",
                "import numpy as np\n",
                "import json_tricks\n",
                "import lovely_tensors as lt\n",
                "\n",
                "lt.monkey_patch()\n",
                "\n",
                "random.seed(0)\n",
                "np.random.seed(0)\n",
                "torch.manual_seed(0)\n",
                "torch.cuda.manual_seed(0)\n",
                "torch.backends.cudnn.deterministic = True\n",
                "\n",
                "answer = {}"
            ]
        },
        {
            "cell_type": "markdown",
            "metadata": {},
            "source": [
                "# Training a Fully Connected Feedforward Neural Network"
            ]
        },
        {
            "cell_type": "markdown",
            "metadata": {},
            "source": [
                "In this exercise we will train a 2-layer FCNN to classify digits into 10 classes (0, 1, 2, ..., 9).\n",
                "\n",
                "To build such network, we will use:\n",
                "- Fully Connected NN\n",
                "- Adam Optimizer\n",
                "- MNIST dataset\n",
                "- Accuracy metrics\n",
                "- Softmax final activation loss function (but we will embed it into the loss function)\n",
                "- Cross-Entropy loss"
            ]
        },
        {
            "cell_type": "markdown",
            "metadata": {},
            "source": [
                "# Task 1: Prepare the data\n",
                "\n",
                "Firstly, prepare MNIST dataset. We will use `torchvision.datasets.MNIST` for that.\n",
                "\n",
                "You have to download train and test datasets and visualize some of the images."
            ]
        },
        {
            "cell_type": "code",
            "execution_count": 2,
            "metadata": {
                "colab": {},
                "colab_type": "code",
                "id": "MqGQWTDIpS3R"
            },
            "outputs": [],
            "source": [
                "import torchvision.datasets\n",
                "\n",
                "MNIST_train = torchvision.datasets.MNIST(\n",
                "    root=\"./\",\n",
                "    train=True,\n",
                "    download=True,\n",
                "    transform=None\n",
                ")\n",
                "MNIST_test = torchvision.datasets.MNIST(\n",
                "    root=\"./\",\n",
                "    train=False,\n",
                "    download=True,\n",
                "    transform=None\n",
                ")"
            ]
        },
        {
            "cell_type": "markdown",
            "metadata": {},
            "source": [
                "Check that the data is prepared:"
            ]
        },
        {
            "cell_type": "code",
            "execution_count": 3,
            "metadata": {
                "colab": {},
                "colab_type": "code",
                "id": "vv_Lz7PYpS3U"
            },
            "outputs": [
                {
                    "name": "stderr",
                    "output_type": "stream",
                    "text": [
                        "/usr/local/lib/python3.11/site-packages/torchvision/datasets/mnist.py:76: UserWarning: train_data has been renamed data\n",
                        "  warnings.warn(\"train_data has been renamed data\")\n",
                        "/usr/local/lib/python3.11/site-packages/torchvision/datasets/mnist.py:66: UserWarning: train_labels has been renamed targets\n",
                        "  warnings.warn(\"train_labels has been renamed targets\")\n",
                        "/usr/local/lib/python3.11/site-packages/torchvision/datasets/mnist.py:81: UserWarning: test_data has been renamed data\n",
                        "  warnings.warn(\"test_data has been renamed data\")\n",
                        "/usr/local/lib/python3.11/site-packages/torchvision/datasets/mnist.py:71: UserWarning: test_labels has been renamed targets\n",
                        "  warnings.warn(\"test_labels has been renamed targets\")\n"
                    ]
                }
            ],
            "source": [
                "X_train = MNIST_train.train_data\n",
                "y_train = MNIST_train.train_labels\n",
                "X_test = MNIST_test.test_data\n",
                "y_test = MNIST_test.test_labels"
            ]
        },
        {
            "cell_type": "code",
            "execution_count": 4,
            "metadata": {
                "colab": {
                    "base_uri": "https://localhost:8080/",
                    "height": 35
                },
                "colab_type": "code",
                "id": "hMhsAedlrQF5",
                "outputId": "ae08bd21-79ff-48da-9886-48996a178110"
            },
            "outputs": [
                {
                    "name": "stdout",
                    "output_type": "stream",
                    "text": [
                        "torch.uint8 torch.uint8 torch.int64 torch.int64\n",
                        "torch.Size([60000, 28, 28]) torch.Size([10000, 28, 28]) torch.Size([60000]) torch.Size([10000])\n",
                        "tensor[60000, 28, 28] u8 n=47040000 (45Mb) x∈[0, 255] μ=33.318 σ=78.567\n",
                        "tensor[10000, 28, 28] u8 n=7840000 (7.5Mb) x∈[0, 255] μ=33.791 σ=79.172\n",
                        "tensor[60000] i64 0.5Mb x∈[0, 9] μ=4.454 σ=2.889\n",
                        "tensor[10000] i64 78Kb x∈[0, 9] μ=4.443 σ=2.896\n"
                    ]
                }
            ],
            "source": [
                "answer['X_train.dtype'] = str(X_train.dtype)\n",
                "answer['y_train.dtype'] = str(y_train.dtype)\n",
                "answer['X_train.shape'] = X_train.shape\n",
                "answer['X_test.shape'] = X_test.shape\n",
                "answer['y_train.shape'] = y_train.shape\n",
                "answer['y_test.shape'] = y_test.shape\n",
                "\n",
                "print(X_train.dtype, X_test.dtype, y_train.dtype, y_test.dtype)\n",
                "print(X_train.shape, X_test.shape, y_train.shape, y_test.shape)\n",
                "\n",
                "print(X_train)\n",
                "print(X_test)\n",
                "print(y_train)\n",
                "print(y_test)\n"
            ]
        },
        {
            "cell_type": "markdown",
            "metadata": {},
            "source": [
                "Neural networks are usually trained in float values. Usually in `float32` or `float16`. In this exercise we will use `float32` precision.\n",
                "\n",
                "Convert your data to `float` type"
            ]
        },
        {
            "cell_type": "code",
            "execution_count": 5,
            "metadata": {
                "colab": {},
                "colab_type": "code",
                "id": "_yTaVOrPvap6"
            },
            "outputs": [],
            "source": [
                "X_train = X_train.float()\n",
                "X_test  = X_test.float()\n",
                "\n"
            ]
        },
        {
            "cell_type": "code",
            "execution_count": 6,
            "metadata": {
                "colab": {
                    "base_uri": "https://localhost:8080/",
                    "height": 35
                },
                "colab_type": "code",
                "id": "_gfupg4kpS3X",
                "outputId": "e72c3ff4-50f7-4695-d5d5-f838e7ac2667"
            },
            "outputs": [],
            "source": [
                "answer['X_train.dtype2'] = str(X_train.dtype)\n",
                "answer['X_test.dtype2'] = str(X_test.dtype)\n"
            ]
        },
        {
            "cell_type": "markdown",
            "metadata": {},
            "source": [
                "Let us visualize the data that we have"
            ]
        },
        {
            "cell_type": "code",
            "execution_count": 7,
            "metadata": {
                "colab": {
                    "base_uri": "https://localhost:8080/",
                    "height": 365
                },
                "colab_type": "code",
                "id": "Z1tFXMwJpS3e",
                "outputId": "e7c2778b-d6f5-4718-ea28-fc8544f0416c"
            },
            "outputs": [
                {
                    "data": {
                        "image/png": "[encoded data removed]",
                        "text/plain": [
                            "<Figure size 640x480 with 1 Axes>"
                        ]
                    },
                    "metadata": {},
                    "output_type": "display_data"
                },
                {
                    "name": "stdout",
                    "output_type": "stream",
                    "text": [
                        "tensor i64 5\n"
                    ]
                }
            ],
            "source": [
                "import matplotlib.pyplot as plt\n",
                "plt.imshow(X_train[0, :, :])\n",
                "plt.show()\n",
                "print(y_train[0])"
            ]
        },
        {
            "cell_type": "markdown",
            "metadata": {},
            "source": [
                "Before we continue, our data should be normalized. Right now we have image data that was stored in int8 (from 0 to 255), and after transforming it to float, it still is in the same range.\n",
                "\n",
                "What we want is the data that has 0 mean and 1 variance.\n",
                "\n",
                "**Task**\n",
                "Scale and center your data so that it has 0 mean and 1 variance.\n",
                "\n",
                "To calculate mean and standard deviation of colors, use only training dataset!"
            ]
        },
        {
            "cell_type": "code",
            "execution_count": 21,
            "metadata": {},
            "outputs": [
                {
                    "name": "stdout",
                    "output_type": "stream",
                    "text": [
                        "tensor[60000, 28, 28] n=47040000 (0.2Gb) x∈[-0.424, 2.822] μ=1.092e-08 σ=1.000\n",
                        "tensor[10000, 28, 28] n=7840000 (30Mb) x∈[-0.424, 2.822] μ=0.006 σ=1.008\n"
                    ]
                }
            ],
            "source": [
                "mean = X_train.mean()\n",
                "std  = X_train.std()\n",
                "\n",
                "X_train = (X_train - mean) / std\n",
                "X_test  = (X_test  - mean) / std\n",
                "\n",
                "answer['X_train.mean'] = mean.detach().numpy()\n",
                "answer['X_train.std'] = std.detach().numpy()\n",
                "\n",
                "answer['X_train_normalized.mean'] = X_train.mean().detach().numpy()\n",
                "answer['X_train_normalized.std'] = X_train.std().detach().numpy()\n",
                "\n",
                "answer['X_test_normalized.mean'] = X_test.mean().detach().numpy()\n",
                "answer['X_test_normalized.std'] = X_test.std().detach().numpy()\n",
                "\n",
                "print(X_train)\n",
                "print(X_test)"
            ]
        },
        {
            "cell_type": "markdown",
            "metadata": {},
            "source": [
                "Now we should turn our data into vectors to be able to perform forward propagation.\n",
                "\n",
                "For that we will take the last two dimensions and squeeze them into one. This is done using `reshape` method.\n",
                "\n",
                "Note that after that tensor can be turned back using reshape command again.\n",
                "\n",
                "Your initial tensor has shape $N \\times 28 \\times 28$, you have to turn it to $N \\times 28^2$"
            ]
        },
        {
            "cell_type": "code",
            "execution_count": 24,
            "metadata": {
                "colab": {},
                "colab_type": "code",
                "id": "IUZgNg7zpS3j"
            },
            "outputs": [],
            "source": [
                "\n",
                "X_train = X_train.reshape(X_train.size(0), -1)\n",
                "X_test  = X_test.reshape(X_test.size(0),  -1)\n",
                "\n",
                "\n",
                "answer['X_train.shape2'] = X_train.shape\n",
                "answer['X_test.shape2'] = X_test.shape"
            ]
        },
        {
            "cell_type": "markdown",
            "metadata": {},
            "source": [
                "# Task 2: Build a network"
            ]
        },
        {
            "cell_type": "markdown",
            "metadata": {},
            "source": [
                "It is time to create our neural network.\n",
                "\n",
                "In pytorch to enable all the magic for training, people enherit their models from `torch.nn.Module`.\n",
                "\n",
                "This enables many utilities that will be used in the future.\n",
                "\n",
                "The main two methods that we have to fill are:\n",
                "- `__init__` method that creates all modules of Neural Network\n",
                "- `__call__` method that is used to calculate preditions\n",
                "\n",
                "Here is the network that you should create:\n",
                "- it should have the structure:\n",
                "    - Linear `28 * 28 -> n_hidden_neurons`\n",
                "    - Sigmoid\n",
                "    - Linear `n_hidden_neurons -> 10`\n",
                "- the signals that you create should traverse the initialized modules according to the order above\n",
                "\n",
                "Note that in theory, we should use a SoftMax activation in the end of this network. But in our case, this activation will be joined with the loss function due to mathematical reasons."
            ]
        },
        {
            "cell_type": "code",
            "execution_count": 25,
            "metadata": {
                "colab": {},
                "colab_type": "code",
                "id": "k7l65slppS3l"
            },
            "outputs": [],
            "source": [
                "class MNISTNet(torch.nn.Module):\n",
                "    def __init__(self, n_hidden_neurons):\n",
                "        super().__init__()\n",
                "        self.fc1 = torch.nn.Linear(28 * 28, n_hidden_neurons)\n",
                "        self.ac1 = torch.nn.Sigmoid()\n",
                "        self.fc2 = torch.nn.Linear(n_hidden_neurons, 10)\n",
                "\n",
                "    def __call__(self, signal):\n",
                "        signal = self.fc1(signal)\n",
                "        signal = self.ac1(signal)\n",
                "        signal = self.fc2(signal)\n",
                "        return signal"
            ]
        },
        {
            "cell_type": "markdown",
            "metadata": {},
            "source": [
                "Let us check that your network actually works"
            ]
        },
        {
            "cell_type": "code",
            "execution_count": 27,
            "metadata": {},
            "outputs": [],
            "source": [
                "mnist_net = MNISTNet(100)\n",
                "check_input = torch.randn(10, 28 * 28)\n",
                "check_output = mnist_net(check_input)\\\n",
                "\n",
                "answer['check_result'] = check_output.detach().numpy()"
            ]
        },
        {
            "cell_type": "markdown",
            "metadata": {},
            "source": [
                "# Task 3: Create loss function and optimizer\n",
                "\n"
            ]
        },
        {
            "cell_type": "markdown",
            "metadata": {},
            "source": [
                "Now you have to make a loss function (Cross Entropy with SoftMax in our case) and an optimizer (`AdamW` with learning rate `lr`)"
            ]
        },
        {
            "cell_type": "code",
            "execution_count": 28,
            "metadata": {
                "colab": {},
                "colab_type": "code",
                "id": "00_2j2igpS3o"
            },
            "outputs": [],
            "source": [
                "loss      = torch.nn.CrossEntropyLoss()\n",
                "optimizer = torch.optim.AdamW(mnist_net.parameters(), lr=1e-3)"
            ]
        },
        {
            "cell_type": "code",
            "execution_count": 29,
            "metadata": {},
            "outputs": [
                {
                    "name": "stdout",
                    "output_type": "stream",
                    "text": [
                        "CrossEntropyLoss()\n",
                        "AdamW (\n",
                        "Parameter Group 0\n",
                        "    amsgrad: False\n",
                        "    betas: (0.9, 0.999)\n",
                        "    capturable: False\n",
                        "    decoupled_weight_decay: True\n",
                        "    differentiable: False\n",
                        "    eps: 1e-08\n",
                        "    foreach: None\n",
                        "    fused: None\n",
                        "    lr: 0.001\n",
                        "    maximize: False\n",
                        "    weight_decay: 0.01\n",
                        ")\n"
                    ]
                }
            ],
            "source": [
                "answer['loss'] = str(loss)\n",
                "answer['optimizer'] = str(optimizer)\n",
                "\n",
                "print(loss)\n",
                "print(optimizer)"
            ]
        },
        {
            "cell_type": "markdown",
            "metadata": {},
            "source": [
                "# Task 4: Train the network"
            ]
        },
        {
            "cell_type": "markdown",
            "metadata": {},
            "source": [
                "Now it is time to train the network\n",
                "\n",
                "I have already created a small loop that shuffles the data.\n",
                "\n",
                "Your task is to create a training cycle for one epoch with the following steps:\n",
                "1. extracts training input and lables from shuffled training data, batch after batch\n",
                "2. switches the network to training state (`model.train()`)(will be important for batchnorms and some other modules)\n",
                "2. generates predictions from the training inputs\n",
                "3. calculates loss function that compares the predictions to the targets\n",
                "4. do backpropagation\n",
                "5. make optimization step  with optimizer\n",
                "6. reset optimizer's gradients\n",
                "7. switches the network to validation state (`model.eval()`)\n",
                "\n",
                "After running one epoch, you should:\n",
                "- make prediction for train and test sets\n",
                "- calculate accuracy for the predictions for both sets\n",
                "- calculate loss function for the predictions for both sets\n",
                "\n",
                "Note that:\n",
                "- it is important to drop the last deficient batch, but we do not do it in this exercise\n",
                "- it is easy to get the class using the prediction vector as it corresponds to the output value with maximal logit"
            ]
        },
        {
            "cell_type": "code",
            "execution_count": 30,
            "metadata": {
                "colab": {},
                "colab_type": "code",
                "id": "wZtqiGvfpS3r"
            },
            "outputs": [
                {
                    "name": "stderr",
                    "output_type": "stream",
                    "text": [
                        "  0%|          | 0/5 [00:00<?, ?it/s]"
                    ]
                },
                {
                    "name": "stderr",
                    "output_type": "stream",
                    "text": [
                        "100%|██████████| 5/5 [00:05<00:00,  1.00s/it]\n"
                    ]
                }
            ],
            "source": [
                "from tqdm import trange\n",
                "\n",
                "batch_size = 100\n",
                "\n",
                "device = torch.device(\"cuda\" if torch.cuda.is_available() else \"cpu\")\n",
                "\n",
                "mnist_net = mnist_net.to(device)\n",
                "\n",
                "test_accuracy_history = []\n",
                "test_loss_history = []\n",
                "\n",
                "train_accuracy_history = []\n",
                "train_loss_history = []\n",
                "\n",
                "X_test = X_test.to(device)\n",
                "y_test = y_test.to(device)\n",
                "\n",
                "for epoch in trange(5):\n",
                "    order = np.random.permutation(len(X_train))\n",
                "    \n",
                "    for start_index in range(0, len(X_train), batch_size):\n",
                "        end_index = start_index + batch_size\n",
                "        batch_idx = order[start_index:end_index]\n",
                "\n",
                "        batch_X = X_train[batch_idx].to(device)\n",
                "        batch_y = y_train[batch_idx].to(device)\n",
                "\n",
                "        mnist_net.train()\n",
                "        preds = mnist_net(batch_X)\n",
                "        l = loss(preds, batch_y)\n",
                "\n",
                "        optimizer.zero_grad() \n",
                "        l.backward()       \n",
                "        optimizer.step()      \n",
                "\n",
                "    \n",
                "    mnist_net.eval()\n",
                "    with torch.no_grad():\n",
                "        train_preds = mnist_net(X_train)\n",
                "        test_preds  = mnist_net(X_test)\n",
                "\n",
                "        train_accuracy = (train_preds.argmax(1) == y_train).float().mean()\n",
                "        test_accuracy  = (test_preds.argmax(1)  == y_test).float().mean()\n",
                "\n",
                "    train_loss_history.append(loss(train_preds, y_train).detach().numpy())\n",
                "    train_accuracy_history.append(train_accuracy.detach().numpy())\n",
                "\n",
                "\n",
                "test_loss_history.append(loss(test_preds, y_test).detach().numpy())\n",
                "test_accuracy_history.append(test_accuracy.detach().numpy())"
            ]
        },
        {
            "cell_type": "code",
            "execution_count": 31,
            "metadata": {
                "colab": {},
                "colab_type": "code",
                "id": "kLnumX3SpS3u"
            },
            "outputs": [
                {
                    "data": {
                        "text/plain": [
                            "[<matplotlib.lines.Line2D at 0xffff49b99b50>]"
                        ]
                    },
                    "execution_count": 31,
                    "metadata": {},
                    "output_type": "execute_result"
                },
                {
                    "data": {
                        "image/png": "[encoded data removed]",
                        "text/plain": [
                            "<Figure size 640x480 with 1 Axes>"
                        ]
                    },
                    "metadata": {},
                    "output_type": "display_data"
                }
            ],
            "source": [
                "plt.plot(train_accuracy_history)\n",
                "plt.plot(test_accuracy_history)"
            ]
        },
        {
            "cell_type": "code",
            "execution_count": 32,
            "metadata": {
                "colab": {},
                "colab_type": "code",
                "id": "-nu1318JpS3y"
            },
            "outputs": [
                {
                    "data": {
                        "text/plain": [
                            "[<matplotlib.lines.Line2D at 0xffff49b3e990>]"
                        ]
                    },
                    "execution_count": 32,
                    "metadata": {},
                    "output_type": "execute_result"
                },
                {
                    "data": {
                        "image/png": "[encoded data removed]",
                        "text/plain": [
                            "<Figure size 640x480 with 1 Axes>"
                        ]
                    },
                    "metadata": {},
                    "output_type": "display_data"
                }
            ],
            "source": [
                "plt.plot(train_loss_history)\n",
                "plt.plot(test_loss_history)"
            ]
        },
        {
            "cell_type": "code",
            "execution_count": 33,
            "metadata": {},
            "outputs": [
                {
                    "data": {
                        "text/plain": [
                            "'{\"X_train.dtype\": \"torch.uint8\", \"y_train.dtype\": \"torch.int64\", \"X_train.shape\": [60000, 28, 28], \"X_test.shape\": [10000, 28, 28], \"y_train.shape\": [60000], \"y_test.shape\": [10000], \"X_train.dtype2\": \"torch.float32\", \"X_test.dtype2\": \"torch.float32\", \"X_train.mean\": {\"__ndarray__\": 2.0428092994961844e-08, \"dtype\": \"float32\", \"shape\": []}, \"X_train.std\": {\"__ndarray__\": 1.0, \"dtype\": \"float32\", \"shape\": []}, \"X_train_normalized.mean\": {\"__ndarray__\": 1.0919895210292907e-08, \"dtype\": \"float32\", \"shape\": []}, \"X_train_normalized.std\": {\"__ndarray__\": 1.0, \"dtype\": \"float32\", \"shape\": []}, \"X_test_normalized.mean\": {\"__ndarray__\": 0.006017804611474276, \"dtype\": \"float32\", \"shape\": []}, \"X_test_normalized.std\": {\"__ndarray__\": 1.0077000856399536, \"dtype\": \"float32\", \"shape\": []}, \"X_train.shape2\": [60000, 784], \"X_test.shape2\": [10000, 784], \"check_result\": {\"__ndarray__\": [[0.342159241437912, -0.40192222595214844, -0.22105541825294495, -0.1276150792837143, 0.40683963894844055, -0.3257845342159271, -0.1499372273683548, 0.08673115819692612, 0.12835098803043365, 0.3071429133415222], [0.3447414040565491, -0.2454555183649063, -0.1251087486743927, -0.11187722533941269, 0.29585301876068115, -0.2756783068180084, -0.1683117300271988, 0.2002238780260086, 0.0872112587094307, 0.3535270094871521], [0.2893196940422058, -0.38589781522750854, -0.07116107642650604, -0.15313035249710083, 0.20709392428398132, -0.3966590166091919, -0.20786535739898682, 0.021673765033483505, 0.1747560352087021, 0.2942681908607483], [0.4789346158504486, -0.4808260202407837, -0.2429729849100113, -0.08948710560798645, 0.13580195605754852, -0.18752124905586243, -0.134118914604187, 0.04416743293404579, 0.19203540682792664, 0.3680606782436371], [0.25561267137527466, -0.4866100251674652, 0.005053897388279438, -0.12906356155872345, 0.24623258411884308, -0.17540273070335388, -0.20378358662128448, 0.04083901271224022, 0.18801718950271606, 0.42571258544921875], [0.38985589146614075, -0.36098235845565796, -0.20028166472911835, -0.06160026788711548, 0.21160514652729034, -0.295076459646225, -0.12722118198871613, 0.05076920613646507, 0.13515257835388184, 0.4417682886123657], [0.5229634046554565, -0.407851904630661, -0.2728554606437683, -0.061315298080444336, 0.3678629994392395, -0.2988877296447754, -0.031052853912115097, 0.07469208538532257, 0.24100454151630402, 0.4140898883342743], [0.4574415683746338, -0.4972788095474243, -0.2514803111553192, -0.08608631044626236, 0.4860661029815674, -0.31330254673957825, -0.11142993718385696, 0.08441434800624847, 0.2015146166086197, 0.48889032006263733], [0.26349592208862305, -0.43965426087379456, -0.19756843149662018, -0.016067273914813995, 0.24718531966209412, -0.28273433446884155, -0.11007945984601974, -0.023137466982007027, 0.1058608815073967, 0.4011087119579315], [0.404653400182724, -0.4406612813472748, -0.1407899558544159, -0.17737579345703125, 0.3273351490497589, -0.291500985622406, -0.09645301848649979, 0.03457602113485336, 0.23571822047233582, 0.3809162676334381]], \"dtype\": \"float32\", \"shape\": [10, 10], \"Corder\": true}, \"loss\": \"CrossEntropyLoss()\", \"optimizer\": \"AdamW (\\\\nParameter Group 0\\\\n    amsgrad: False\\\\n    betas: (0.9, 0.999)\\\\n    capturable: False\\\\n    decoupled_weight_decay: True\\\\n    differentiable: False\\\\n    eps: 1e-08\\\\n    foreach: None\\\\n    fused: None\\\\n    lr: 0.001\\\\n    maximize: False\\\\n    weight_decay: 0.01\\\\n)\", \"train_loss_histoory\": [{\"__ndarray__\": 0.24512632191181183, \"dtype\": \"float32\", \"shape\": []}, {\"__ndarray__\": 0.17376379668712616, \"dtype\": \"float32\", \"shape\": []}, {\"__ndarray__\": 0.13799931108951569, \"dtype\": \"float32\", \"shape\": []}, {\"__ndarray__\": 0.11390416324138641, \"dtype\": \"float32\", \"shape\": []}, {\"__ndarray__\": 0.0966641828417778, \"dtype\": \"float32\", \"shape\": []}], \"test_loss_history\": [{\"__ndarray__\": 0.12121690809726715, \"dtype\": \"float32\", \"shape\": []}], \"train_acc_history\": [{\"__ndarray__\": 0.932533323764801, \"dtype\": \"float32\", \"shape\": []}, {\"__ndarray__\": 0.9522500038146973, \"dtype\": \"float32\", \"shape\": []}, {\"__ndarray__\": 0.9625166654586792, \"dtype\": \"float32\", \"shape\": []}, {\"__ndarray__\": 0.9690666794776917, \"dtype\": \"float32\", \"shape\": []}, {\"__ndarray__\": 0.9740666747093201, \"dtype\": \"float32\", \"shape\": []}], \"test_ann_history\": [{\"__ndarray__\": 0.9648000001907349, \"dtype\": \"float32\", \"shape\": []}]}'"
                        ]
                    },
                    "execution_count": 33,
                    "metadata": {},
                    "output_type": "execute_result"
                }
            ],
            "source": [
                "answer['train_loss_histoory'] = train_loss_history\n",
                "answer['test_loss_history'] = test_loss_history\n",
                "answer['train_acc_history'] = train_accuracy_history\n",
                "answer['test_ann_history'] = test_accuracy_history\n",
                "\n",
                "json_tricks.dump(answer, '.answer.json')"
            ]
        },
        {
            "cell_type": "markdown",
            "metadata": {},
            "source": [
                "# Making the network deep"
            ]
        },
        {
            "cell_type": "markdown",
            "metadata": {},
            "source": [
                "We have built a network and a training cycle for it. And it works!\n",
                "\n",
                "In the next exercises we will create all the modules that are required to build deep networks. We will also use batchnormalization in these modules and experiment with them."
            ]
        },
        {
            "cell_type": "markdown",
            "metadata": {},
            "source": [
                "# Task 5. Create LinAct block\n",
                "\n",
                "Create a module that contains `torch.Sequential` module with:\n",
                "- Linear layer `n_channels -> n_channels`\n",
                "- Activation function (that is set to `Sigmoid` by default)\n",
                "\n",
                "Create a module `NoResidual` that is able to wrap a block of the network. It should work just like the original module, and its purpose is that we will replace it with `Residual` block in the future.\n",
                "\n",
                "After that, create DeepMNISTNet. This network should contain:\n",
                "- A Linear adapter module to project $28 \\times 28$ pixels to `n_channels`\n",
                "- `n_layers` instances of wrappers, each wrapping 2 sequential `block`-s (with correct number of channels and correct activation function)\n",
                "- A final classifier linear module that projects the signal of `n_channels` to number of classes (10 in our case)"
            ]
        },
        {
            "cell_type": "code",
            "execution_count": 34,
            "metadata": {},
            "outputs": [],
            "source": [
                "class LinAct(torch.nn.Module):\n",
                "    def __init__(self, num_channels, activation_fn=torch.nn.Sigmoid):\n",
                "        super().__init__()\n",
                "        self.linear      = torch.nn.Linear(num_channels, num_channels)\n",
                "        self.activation  = activation_fn()\n",
                "\n",
                "    def __call__(self, x):\n",
                "        return self.activation(self.linear(x))\n",
                "\n",
                "\n",
                "\n",
                "\n",
                "class NoResidual(torch.nn.Module):\n",
                "    def __init__(self, module):\n",
                "        super().__init__()\n",
                "        self.block = module           \n",
                "\n",
                "    def __call__(self, x):\n",
                "        return self.block(x)\n",
                "\n",
                "\n",
                "\n",
                "class DeepMNISTNet(torch.nn.Module):\n",
                "    def __init__(\n",
                "        self,\n",
                "        n_channels,\n",
                "        n_layers,\n",
                "        block=LinAct,\n",
                "        wrapper=NoResidual,\n",
                "        activation_fn=torch.nn.Sigmoid\n",
                "    ):\n",
                "        super().__init__()\n",
                "\n",
                "        self.adapter = torch.nn.Linear(28 * 28, n_channels)\n",
                "\n",
                "        self.layers = torch.nn.ModuleList()\n",
                "        for _ in range(n_layers):\n",
                "            inner = torch.nn.Sequential(\n",
                "                block(n_channels, activation_fn),\n",
                "                block(n_channels, activation_fn)\n",
                "            )\n",
                "            self.layers.append(wrapper(inner))\n",
                "            \n",
                "        self.classifier = torch.nn.Linear(n_channels, 10)\n",
                "\n",
                "    def __call__(self, x):\n",
                "        x = self.adapter(x)\n",
                "        for layer in self.layers:\n",
                "            x = layer(x)\n",
                "        x = self.classifier(x)\n",
                "        return x"
            ]
        },
        {
            "cell_type": "code",
            "execution_count": 35,
            "metadata": {},
            "outputs": [],
            "source": [
                "model = DeepMNISTNet(\n",
                "    n_channels=28*28, \n",
                "    n_layers=4)\n",
                "\n",
                "test_input = torch.zeros([10, 28 * 28])\n",
                "test_output = model(test_input)\n",
                "\n",
                "answer['model_deep'] = str(model)\n",
                "answer['test_output_deep'] = test_output.detach().numpy()"
            ]
        },
        {
            "cell_type": "markdown",
            "metadata": {},
            "source": [
                "# Task 6\n",
                "\n",
                "Build a residual wrapper.\n",
                "\n",
                "This layer should wrap any specified module, and the main idea of it should be that if the module works like $\\mathbf f(\\mathbf x)$, then wrapped in residual layer, it should work like $\\mathbf f(\\mathbf x) + \\mathbf x$\n",
                "\n",
                "So, the main question here is how to implement `__call__` method"
            ]
        },
        {
            "cell_type": "code",
            "execution_count": 36,
            "metadata": {},
            "outputs": [],
            "source": [
                "class Residual(torch.nn.Module):\n",
                "    def __init__(self, module):\n",
                "        super().__init__()\n",
                "        self.block = module         \n",
                "\n",
                "    def __call__(self, x):\n",
                "        return self.block(x) + x\n"
            ]
        },
        {
            "cell_type": "code",
            "execution_count": 37,
            "metadata": {},
            "outputs": [],
            "source": [
                "model = DeepMNISTNet(\n",
                "    n_channels=28*28, \n",
                "    n_layers=4,\n",
                "    wrapper=Residual\n",
                ")\n",
                "\n",
                "test_input = torch.randn([10, 28 * 28])\n",
                "test_output = model(test_input)\n",
                "\n",
                "answer['model_deep_residual'] = str(model)\n",
                "answer['test_output_deep_residual'] = test_output.detach().numpy()"
            ]
        },
        {
            "cell_type": "markdown",
            "metadata": {},
            "source": [
                "# Task 7\n",
                "\n",
                "Build a LinNormAct block that is similar to `LinAct`, but has a normalization module before activation function:\n",
                "- `torch.nn.Linear`\n",
                "- `torch.nn.BatchNorm1d`\n",
                "- activation function"
            ]
        },
        {
            "cell_type": "code",
            "execution_count": 38,
            "metadata": {},
            "outputs": [],
            "source": [
                "class LinNormAct(torch.nn.Module):\n",
                "    def __init__(self, num_channels, activation_fn=torch.nn.Sigmoid):\n",
                "        super().__init__()\n",
                "        self.linear      = torch.nn.Linear(num_channels, num_channels)\n",
                "        self.norm        = torch.nn.BatchNorm1d(num_channels)\n",
                "        self.activation  = activation_fn()\n",
                "\n",
                "    def __call__(self, x):\n",
                "        return self.activation(self.norm(self.linear(x)))\n",
                "\n",
                "\n",
                "model = DeepMNISTNet(\n",
                "    n_channels=28*28, \n",
                "    n_layers=4,\n",
                "    wrapper=Residual,\n",
                "    block=LinNormAct\n",
                ")\n",
                "\n",
                "test_input = torch.randn([10, 28 * 28])\n",
                "test_output = model(test_input)\n",
                "\n",
                "answer['model_deep_residual_linnormact'] = str(model)\n",
                "answer['test_output_deep_residual_linnormact'] = test_output.detach().numpy()"
            ]
        },
        {
            "cell_type": "code",
            "execution_count": 39,
            "metadata": {},
            "outputs": [
                {
                    "data": {
                        "text/plain": [
                            "'{\"X_train.dtype\": \"torch.uint8\", \"y_train.dtype\": \"torch.int64\", \"X_train.shape\": [60000, 28, 28], \"X_test.shape\": [10000, 28, 28], \"y_train.shape\": [60000], \"y_test.shape\": [10000], \"X_train.dtype2\": \"torch.float32\", \"X_test.dtype2\": \"torch.float32\", \"X_train.mean\": {\"__ndarray__\": 2.0428092994961844e-08, \"dtype\": \"float32\", \"shape\": []}, \"X_train.std\": {\"__ndarray__\": 1.0, \"dtype\": \"float32\", \"shape\": []}, \"X_train_normalized.mean\": {\"__ndarray__\": 1.0919895210292907e-08, \"dtype\": \"float32\", \"shape\": []}, \"X_train_normalized.std\": {\"__ndarray__\": 1.0, \"dtype\": \"float32\", \"shape\": []}, \"X_test_normalized.mean\": {\"__ndarray__\": 0.006017804611474276, \"dtype\": \"float32\", \"shape\": []}, \"X_test_normalized.std\": {\"__ndarray__\": 1.0077000856399536, \"dtype\": \"float32\", \"shape\": []}, \"X_train.shape2\": [60000, 784], \"X_test.shape2\": [10000, 784], \"check_result\": {\"__ndarray__\": [[0.342159241437912, -0.40192222595214844, -0.22105541825294495, -0.1276150792837143, 0.40683963894844055, -0.3257845342159271, -0.1499372273683548, 0.08673115819692612, 0.12835098803043365, 0.3071429133415222], [0.3447414040565491, -0.2454555183649063, -0.1251087486743927, -0.11187722533941269, 0.29585301876068115, -0.2756783068180084, -0.1683117300271988, 0.2002238780260086, 0.0872112587094307, 0.3535270094871521], [0.2893196940422058, -0.38589781522750854, -0.07116107642650604, -0.15313035249710083, 0.20709392428398132, -0.3966590166091919, -0.20786535739898682, 0.021673765033483505, 0.1747560352087021, 0.2942681908607483], [0.4789346158504486, -0.4808260202407837, -0.2429729849100113, -0.08948710560798645, 0.13580195605754852, -0.18752124905586243, -0.134118914604187, 0.04416743293404579, 0.19203540682792664, 0.3680606782436371], [0.25561267137527466, -0.4866100251674652, 0.005053897388279438, -0.12906356155872345, 0.24623258411884308, -0.17540273070335388, -0.20378358662128448, 0.04083901271224022, 0.18801718950271606, 0.42571258544921875], [0.38985589146614075, -0.36098235845565796, -0.20028166472911835, -0.06160026788711548, 0.21160514652729034, -0.295076459646225, -0.12722118198871613, 0.05076920613646507, 0.13515257835388184, 0.4417682886123657], [0.5229634046554565, -0.407851904630661, -0.2728554606437683, -0.061315298080444336, 0.3678629994392395, -0.2988877296447754, -0.031052853912115097, 0.07469208538532257, 0.24100454151630402, 0.4140898883342743], [0.4574415683746338, -0.4972788095474243, -0.2514803111553192, -0.08608631044626236, 0.4860661029815674, -0.31330254673957825, -0.11142993718385696, 0.08441434800624847, 0.2015146166086197, 0.48889032006263733], [0.26349592208862305, -0.43965426087379456, -0.19756843149662018, -0.016067273914813995, 0.24718531966209412, -0.28273433446884155, -0.11007945984601974, -0.023137466982007027, 0.1058608815073967, 0.4011087119579315], [0.404653400182724, -0.4406612813472748, -0.1407899558544159, -0.17737579345703125, 0.3273351490497589, -0.291500985622406, -0.09645301848649979, 0.03457602113485336, 0.23571822047233582, 0.3809162676334381]], \"dtype\": \"float32\", \"shape\": [10, 10], \"Corder\": true}, \"loss\": \"CrossEntropyLoss()\", \"optimizer\": \"AdamW (\\\\nParameter Group 0\\\\n    amsgrad: False\\\\n    betas: (0.9, 0.999)\\\\n    capturable: False\\\\n    decoupled_weight_decay: True\\\\n    differentiable: False\\\\n    eps: 1e-08\\\\n    foreach: None\\\\n    fused: None\\\\n    lr: 0.001\\\\n    maximize: False\\\\n    weight_decay: 0.01\\\\n)\", \"train_loss_histoory\": [{\"__ndarray__\": 0.24512632191181183, \"dtype\": \"float32\", \"shape\": []}, {\"__ndarray__\": 0.17376379668712616, \"dtype\": \"float32\", \"shape\": []}, {\"__ndarray__\": 0.13799931108951569, \"dtype\": \"float32\", \"shape\": []}, {\"__ndarray__\": 0.11390416324138641, \"dtype\": \"float32\", \"shape\": []}, {\"__ndarray__\": 0.0966641828417778, \"dtype\": \"float32\", \"shape\": []}], \"test_loss_history\": [{\"__ndarray__\": 0.12121690809726715, \"dtype\": \"float32\", \"shape\": []}], \"train_acc_history\": [{\"__ndarray__\": 0.932533323764801, \"dtype\": \"float32\", \"shape\": []}, {\"__ndarray__\": 0.9522500038146973, \"dtype\": \"float32\", \"shape\": []}, {\"__ndarray__\": 0.9625166654586792, \"dtype\": \"float32\", \"shape\": []}, {\"__ndarray__\": 0.9690666794776917, \"dtype\": \"float32\", \"shape\": []}, {\"__ndarray__\": 0.9740666747093201, \"dtype\": \"float32\", \"shape\": []}], \"test_ann_history\": [{\"__ndarray__\": 0.9648000001907349, \"dtype\": \"float32\", \"shape\": []}], \"model_deep\": \"DeepMNISTNet(\\\\n  (adapter): Linear(in_features=784, out_features=784, bias=True)\\\\n  (layers): ModuleList(\\\\n    (0-3): 4 x NoResidual(\\\\n      (block): Sequential(\\\\n        (0): LinAct(\\\\n          (linear): Linear(in_features=784, out_features=784, bias=True)\\\\n          (activation): Sigmoid()\\\\n        )\\\\n        (1): LinAct(\\\\n          (linear): Linear(in_features=784, out_features=784, bias=True)\\\\n          (activation): Sigmoid()\\\\n        )\\\\n      )\\\\n    )\\\\n  )\\\\n  (classifier): Linear(in_features=784, out_features=10, bias=True)\\\\n)\", \"test_output_deep\": {\"__ndarray__\": [[-0.026112521067261696, -0.03261847794055939, 0.02073928713798523, 0.0538841187953949, -0.2946029007434845, 0.17317982017993927, 0.33043819665908813, -0.20033912360668182, 0.013577364385128021, 0.0358622744679451], [-0.026112521067261696, -0.03261847794055939, 0.02073928713798523, 0.0538841187953949, -0.2946029007434845, 0.17317982017993927, 0.33043819665908813, -0.20033912360668182, 0.013577364385128021, 0.0358622744679451], [-0.026112521067261696, -0.03261847794055939, 0.02073928713798523, 0.0538841187953949, -0.2946029007434845, 0.17317982017993927, 0.33043819665908813, -0.20033912360668182, 0.013577364385128021, 0.0358622744679451], [-0.026112521067261696, -0.03261847794055939, 0.02073928713798523, 0.0538841187953949, -0.2946029007434845, 0.17317982017993927, 0.33043819665908813, -0.20033912360668182, 0.013577364385128021, 0.0358622744679451], [-0.026112521067261696, -0.03261847794055939, 0.02073928713798523, 0.0538841187953949, -0.2946029007434845, 0.17317982017993927, 0.33043819665908813, -0.20033912360668182, 0.013577364385128021, 0.0358622744679451], [-0.026112521067261696, -0.03261847794055939, 0.02073928713798523, 0.0538841187953949, -0.2946029007434845, 0.17317982017993927, 0.33043819665908813, -0.20033912360668182, 0.013577364385128021, 0.0358622744679451], [-0.026112521067261696, -0.03261847794055939, 0.02073928713798523, 0.0538841187953949, -0.2946029007434845, 0.17317982017993927, 0.33043819665908813, -0.20033912360668182, 0.013577364385128021, 0.0358622744679451], [-0.026112521067261696, -0.03261847794055939, 0.02073928713798523, 0.0538841187953949, -0.2946029007434845, 0.17317982017993927, 0.33043819665908813, -0.20033912360668182, 0.013577364385128021, 0.0358622744679451], [-0.026112521067261696, -0.03261847794055939, 0.02073928713798523, 0.0538841187953949, -0.2946029007434845, 0.17317982017993927, 0.33043819665908813, -0.20033912360668182, 0.013577364385128021, 0.0358622744679451], [-0.026112521067261696, -0.03261847794055939, 0.02073928713798523, 0.0538841187953949, -0.2946029007434845, 0.17317982017993927, 0.33043819665908813, -0.20033912360668182, 0.013577364385128021, 0.0358622744679451]], \"dtype\": \"float32\", \"shape\": [10, 10], \"Corder\": true}, \"model_deep_residual\": \"DeepMNISTNet(\\\\n  (adapter): Linear(in_features=784, out_features=784, bias=True)\\\\n  (layers): ModuleList(\\\\n    (0-3): 4 x Residual(\\\\n      (block): Sequential(\\\\n        (0): LinAct(\\\\n          (linear): Linear(in_features=784, out_features=784, bias=True)\\\\n          (activation): Sigmoid()\\\\n        )\\\\n        (1): LinAct(\\\\n          (linear): Linear(in_features=784, out_features=784, bias=True)\\\\n          (activation): Sigmoid()\\\\n        )\\\\n      )\\\\n    )\\\\n  )\\\\n  (classifier): Linear(in_features=784, out_features=10, bias=True)\\\\n)\", \"test_output_deep_residual\": {\"__ndarray__\": [[0.17673298716545105, 0.06821981817483902, 0.08051970601081848, 0.18747344613075256, -0.7212415337562561, 1.2766282558441162, -0.42429816722869873, 1.2523269653320312, -0.22627805173397064, -3.750274181365967], [0.2229502946138382, -0.15254859626293182, -0.4773067831993103, -0.2866213619709015, -0.10769948363304138, 1.0356881618499756, 0.3982972800731659, 1.0300413370132446, 0.3537432551383972, -3.2455248832702637], [-0.00603047851473093, 0.026010770350694656, 0.3936457335948944, -0.04336870089173317, -0.6250857710838318, 0.7579070925712585, -0.3658313751220703, 0.6475570201873779, 0.3447363078594208, -3.352586269378662], [0.1907091587781906, -0.16916786134243011, -0.18769977986812592, -0.5566189289093018, -0.9590258002281189, 1.0616356134414673, -0.41732341051101685, 0.9743884801864624, -0.026157919317483902, -3.7873759269714355], [1.222841739654541, 0.19952307641506195, -0.42516741156578064, 0.44509825110435486, -0.6914812326431274, 1.110418677330017, -0.25275686383247375, 0.5989955067634583, 0.4139476716518402, -3.9577934741973877], [0.27545809745788574, 0.1324707418680191, -0.062269922345876694, 0.2597034275531769, -0.020955346524715424, 1.342421531677246, -0.15889281034469604, 0.846954882144928, 0.21986687183380127, -3.669076442718506], [0.4973887503147125, -0.298522412776947, -0.19625000655651093, -0.36535441875457764, -1.2136461734771729, 1.1286216974258423, 0.15091538429260254, 0.7902379631996155, 0.1356603354215622, -3.9306559562683105], [0.8319040536880493, -0.09621760249137878, -0.3059409558773041, -0.10111355036497116, -0.531058132648468, 1.3169267177581787, -0.42971667647361755, 0.6912478804588318, 0.7284243106842041, -4.2570343017578125], [0.059060238301754, 0.25202909111976624, -0.02769196778535843, -0.14401237666606903, -0.7519079446792603, 1.546952724456787, 0.4800156056880951, 0.7815346121788025, 0.4842573404312134, -3.870549201965332], [0.9673194885253906, 0.2481435090303421, 0.4498806893825531, -0.24819883704185486, 0.11504102498292923, 1.3178670406341553, 0.066981740295887, 0.8690561652183533, 0.3195076584815979, -3.005505323410034]], \"dtype\": \"float32\", \"shape\": [10, 10], \"Corder\": true}, \"model_deep_residual_linnormact\": \"DeepMNISTNet(\\\\n  (adapter): Linear(in_features=784, out_features=784, bias=True)\\\\n  (layers): ModuleList(\\\\n    (0-3): 4 x Residual(\\\\n      (block): Sequential(\\\\n        (0): LinNormAct(\\\\n          (linear): Linear(in_features=784, out_features=784, bias=True)\\\\n          (norm): BatchNorm1d(784, eps=1e-05, momentum=0.1, affine=True, track_running_stats=True)\\\\n          (activation): Sigmoid()\\\\n        )\\\\n        (1): LinNormAct(\\\\n          (linear): Linear(in_features=784, out_features=784, bias=True)\\\\n          (norm): BatchNorm1d(784, eps=1e-05, momentum=0.1, affine=True, track_running_stats=True)\\\\n          (activation): Sigmoid()\\\\n        )\\\\n      )\\\\n    )\\\\n  )\\\\n  (classifier): Linear(in_features=784, out_features=10, bias=True)\\\\n)\", \"test_output_deep_residual_linnormact\": {\"__ndarray__\": [[-1.0039865970611572, 1.1869069337844849, 2.5657713413238525, -3.5980441570281982, -0.4208637773990631, 0.5177831649780273, -0.5221375226974487, 0.1788340061903, -0.10057777911424637, -0.10872088372707367], [-0.3984958231449127, 1.4619998931884766, 1.5856958627700806, -3.044783115386963, -0.2894172668457031, 0.10760776698589325, -0.6996632814407349, 0.7755480408668518, 0.19001318514347076, 1.078505516052246], [-0.4103590250015259, 1.6406842470169067, 2.0925180912017822, -2.861264944076538, 0.3163277208805084, -0.42797577381134033, -0.6292614340782166, 0.8719419836997986, 0.6684392094612122, 0.2017553299665451], [-0.3597821593284607, 2.0932483673095703, 1.9032009840011597, -2.408360004425049, -0.4819653332233429, -0.1681184470653534, -0.8613049387931824, 1.2444404363632202, -0.3385812044143677, 0.6774332523345947], [-1.0797125101089478, 2.017568588256836, 2.1930899620056152, -2.838791847229004, -0.038904014974832535, -0.06428201496601105, 0.3801961839199066, 1.2865580320358276, -0.03242823854088783, 0.9594855308532715], [-1.1922746896743774, 2.0062856674194336, 1.54434072971344, -3.077472448348999, 0.7227059006690979, -0.3928224742412567, 0.5323003530502319, 1.0573644638061523, 0.005646114703267813, 1.0208061933517456], [-0.11338077485561371, 1.8186200857162476, 1.7575879096984863, -2.042050361633301, -0.18004532158374786, -0.03170890733599663, -0.3226075768470764, 1.238293170928955, -0.14597509801387787, 0.8641343712806702], [-0.7320466041564941, 1.314154028892517, 2.4985849857330322, -2.812299966812134, 0.5754469633102417, -0.37016549706459045, -0.28429466485977173, 0.9487459063529968, 0.09399107098579407, 0.4250149726867676], [-1.230401635169983, 0.9857536554336548, 2.3298511505126953, -2.6549057960510254, -0.3959100842475891, 0.11357977241277695, 0.4227648079395294, 1.0635558366775513, -0.42104825377464294, 0.25150659680366516], [-0.911247730255127, 0.9565967321395874, 1.624800682067871, -2.7765843868255615, 0.4579271674156189, -1.0699502229690552, 0.05570213496685028, 1.055393934249878, -0.13182459771633148, 1.0410324335098267]], \"dtype\": \"float32\", \"shape\": [10, 10], \"Corder\": true}}'"
                        ]
                    },
                    "execution_count": 39,
                    "metadata": {},
                    "output_type": "execute_result"
                }
            ],
            "source": [
                "from pprint import pprint\n",
                "\n",
                "json_tricks.dump(answer, '.answer.json')"
            ]
        },
        {
            "cell_type": "markdown",
            "metadata": {},
            "source": [
                "# Congratulations\n",
                "\n",
                "Here, obligatory part ends. With it, we have prepared the basic script to train our neural network.\n",
                "\n",
                "Nevertheless, we can do a lot of interesting experiments now:\n",
                "\n",
                "- for 100 epochs check, how does the training process go\n",
                "- check, how does the training process go for `n_layers = 1, 2, 4, 8, 16` \n",
                "- for `n_layers=16`, check, whether the network trains with and without residual connections\n",
                "- for the network with `n_layers=16`, add batch normalization layer, and check how the network trains with and without batch normalization\n",
                "- additionally, you can make bottleneck blocks out of residual blocks. Check, how much more are they efficient and how much does the quality drop when the size of internal representation is squeezed twice: `N -> N/2 -> N`\n",
                "- for the best network, add learning rate scheduling such as reduce LR on Plateau\n",
                "- for the best network, use AdamW with LookAhead (can be found as a separate package)\n",
                "\n",
                "To run these experiments, just take your training procedure that we have created, and substitute the model with a model of the interest.\n",
                "\n",
                "With such a simple networks, the experiments potentially can be run on the local machine, but I would recommend uploading this notebook to `Google Colab` and using a GPU (it may cost around 5$/month)\n",
                "\n",
                "Note that to use `CUDA` for your experiments, you have to\n",
                "- move model to `cuda` device using `.cuda()` or `.to()` methods\n",
                "- move batch tensors to `cuda` device the same way\n",
                "\n",
                "To report your results, you can use matplotlib, but there is a better options for machine learning. There are logging systems for ML that are called:\n",
                "- tensorboard\n",
                "- mlflow\n",
                "- weights and biases\n",
                "- neptune ai\n",
                "- and others\n",
                "\n",
                "I would recommend using the first two and maybe the third one. Tensorboard is a powerful tool to visualize the progress of your training process, while mlflow is a nice tool for journaling the experiments"
            ]
        },
        {
            "cell_type": "markdown",
            "metadata": {},
            "source": [
                "You can check your solutions submitting your results here:\n",
                "\n",
                "https://www.kaggle.com/competitions/digit-recognizer"
            ]
        }
    ],
    "metadata": {
        "accelerator": "GPU",
        "colab": {
            "collapsed_sections": [],
            "name": "Lesson 5 Digits Recognition Video.ipynb",
            "provenance": [],
            "version": "0.3.2"
        },
        "kernelspec": {
            "display_name": "Python 3",
            "language": "python",
            "name": "python3"
        },
        "language_info": {
            "codemirror_mode": {
                "name": "ipython",
                "version": 3
            },
            "file_extension": ".py",
            "mimetype": "text/x-python",
            "name": "python",
            "nbconvert_exporter": "python",
            "pygments_lexer": "ipython3",
            "version": "3.11.13"
        }
    },
    "nbformat": 4,
    "nbformat_minor": 1
}
